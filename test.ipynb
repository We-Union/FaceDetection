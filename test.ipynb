{
 "metadata": {
  "language_info": {
   "codemirror_mode": {
    "name": "ipython",
    "version": 3
   },
   "file_extension": ".py",
   "mimetype": "text/x-python",
   "name": "python",
   "nbconvert_exporter": "python",
   "pygments_lexer": "ipython3",
   "version": "3.7.6"
  },
  "orig_nbformat": 4,
  "kernelspec": {
   "name": "python3",
   "display_name": "Python 3.7.6 64-bit"
  },
  "interpreter": {
   "hash": "4ce0e62306dd6a5716965d4519ada776f947e6dfc145b604b11307c10277ef29"
  }
 },
 "nbformat": 4,
 "nbformat_minor": 2,
 "cells": [
  {
   "cell_type": "code",
   "execution_count": 1,
   "metadata": {},
   "outputs": [
    {
     "output_type": "stream",
     "name": "stdout",
     "text": [
      "hello world\n"
     ]
    }
   ],
   "source": [
    "msg = \"hello world\"\n",
    "print(msg)"
   ]
  },
  {
   "cell_type": "code",
   "execution_count": 2,
   "metadata": {},
   "outputs": [
    {
     "output_type": "stream",
     "name": "stdout",
     "text": [
      "{'__module__': 'face_detection.Config', '__annotations__': {'Version': <class 'str'>, 'freeze_layer_num': <class 'int'>, 'use_classifier_drop': <class 'bool'>, 'negative_value': <class 'float'>, 'positive_value': <class 'float'>, 'nums_threshold': <class 'float'>, 'score_threshold': <class 'float'>, 'small_score_threshold': <class 'float'>, 'roi_sigma': <class 'float'>, 'rpn_sigma': <class 'float'>, 'learning_rate': <class 'float'>, 'weight_decay': <class 'float'>, 'learning_rate_decay': <class 'float'>, 'optimizer_name': <class 'str'>, 'BBOX_MARGIN_DICT': <class 'dict'>}, 'Version': '0.0.0', 'use_cuda': False, 'freeze_layer_num': 10, 'use_classifier_drop': False, 'classifier_drop_layer_indices': [2, 5], 'negative_value': 0.3, 'positive_value': 0.7, 'nums_threshold': 0.3, 'score_threshold': 0.7, 'small_score_threshold': 0.05, 'roi_sigma': 1.0, 'rpn_sigma': 3.0, 'learning_rate': 0.001, 'weight_decay': 0.0005, 'learning_rate_decay': 0.1, 'optimizer_name': 'Adam', 'BBOX_MARGIN_DICT': {'color': 'c-', 'width': 5, 'alpha': 0.8}, 'load_dict': <bound method Config.load_dict of <face_detection.Config.Config object at 0x000002DE35F2AE88>>, '__dict__': {}, '__weakref__': None, '__doc__': None}\n"
     ]
    }
   ],
   "source": [
    "from face_detection import cig\n",
    "\n",
    "print(cig.state_dict())"
   ]
  }
 ]
}